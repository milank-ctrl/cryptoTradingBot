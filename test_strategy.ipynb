{
 "cells": [
  {
   "cell_type": "code",
   "execution_count": 22,
   "metadata": {},
   "outputs": [],
   "source": [
    "from os import close\n",
    "from binance.client import Client\n",
    "import json\n",
    "import pandas as pd\n",
    "import ta\n",
    "from ta.volatility import BollingerBands\n",
    "from datetime import datetime\n",
    "import time\n",
    "import seaborn as sns\n",
    "import matplotlib.pyplot as plt"
   ]
  },
  {
   "cell_type": "code",
   "execution_count": 4,
   "metadata": {},
   "outputs": [],
   "source": [
    "json_path = \"/home/pi/Desktop/python/crypto/config.json\"\n",
    "\n",
    "with open(json_path, \"r\") as f:\n",
    "    config = json.load(f)\n",
    "\n",
    "client = Client(config[\"api_key\"], config[\"secret_key\"])"
   ]
  },
  {
   "cell_type": "code",
   "execution_count": 44,
   "metadata": {},
   "outputs": [],
   "source": [
    "def getMinData (symbol, interval, lookback):\n",
    "    #returns OHLCV\n",
    "    frame = pd.DataFrame(client.get_historical_klines(symbol = symbol, interval = interval, start_str= lookback))\n",
    "    frame = frame.iloc[:, :6]\n",
    "    frame.columns = ['Time', 'Open', 'High', 'Low', 'Close', 'Volume']\n",
    "    #frame = frame.set_index('Time') \n",
    "    #frame.index = pd.to_datetime(frame.index, unit = 'ms')\n",
    "    frame['Time'] = pd.to_datetime(frame['Time'], unit = 'ms')\n",
    "    frame[['Open', 'High', 'Low', 'Close', 'Volume']] = frame[['Open', 'High', 'Low', 'Close', 'Volume']].astype(float)\n",
    "    return frame\n",
    "\n",
    "def applyTechnicals(df):\n",
    "    df['RSI'] = ta.momentum.rsi(close = df[\"Close\"], window = 14)\n",
    "    df[\"MA200\"] = df[\"Close\"].rolling(200).mean()\n",
    "    indicator_bb = BollingerBands(close = df[\"Close\"], window = 20, window_dev = 2)\n",
    "    df[\"bb_bbm\"] = indicator_bb.bollinger_mavg()\n",
    "    df[\"bb_high_band\"] = indicator_bb.bollinger_hband()\n",
    "    df[\"bb_low_band\"] = indicator_bb.bollinger_lband()\n",
    "\n",
    "    #df['%K'] = ta.momentum.stoch(df[\"High\"],df[\"Low\"], df[\"Close\"], window = 14, smooth_window = 3)"
   ]
  },
  {
   "cell_type": "code",
   "execution_count": 57,
   "metadata": {},
   "outputs": [],
   "source": [
    "\n",
    "#strateg: rsi; bb\n",
    "def testing_strategy(df, strategy):\n",
    "\n",
    "    buy = True\n",
    "    lowerB = 30\n",
    "    higherB = 70\n",
    "    main_invest = 100\n",
    "    invest = main_invest\n",
    "    eth = 0\n",
    "    log = []\n",
    "\n",
    "    for i in range(13, len(df)):\n",
    "\n",
    "        trading_day = df.iloc[i]\n",
    "        close_date = trading_day[\"Time\"]\n",
    "        close_price = trading_day[\"Close\"]\n",
    "        \n",
    "        \n",
    "        if strategy == \"rsi\":\n",
    "            rsi = trading_day[\"RSI\"]\n",
    "\n",
    "            if (buy and rsi <= lowerB):\n",
    "                trx = {}\n",
    "                buy = False\n",
    "                eth = invest / close_price\n",
    "                buyPrice = close_price\n",
    "                trx[\"Type\"] = \"Buy\"\n",
    "                trx[\"Date\"] = close_date\n",
    "                trx[\"Close\"] = close_price\n",
    "                log.append(trx)\n",
    "\n",
    "            #looking for selling opportunity\n",
    "            elif (buy == False and rsi >= higherB and buyPrice < close_price):\n",
    "                buy = True\n",
    "                invest = close_price * eth\n",
    "                trx = {}\n",
    "                trx[\"Type\"] = \"Sell\"\n",
    "                trx[\"Date\"] = close_date\n",
    "                trx[\"Close\"] = close_price\n",
    "                trx[\"Total Profit\"] = invest - main_invest\n",
    "                log.append(trx)\n",
    "\n",
    "        elif strategy == \"bb\":\n",
    "            bb_high_band = trading_day[\"bb_high_band\"]\n",
    "            bb_low_band = trading_day[\"bb_low_band\"]\n",
    "\n",
    "            if (buy and close_price <= bb_low_band):\n",
    "                trx = {}\n",
    "                buy = False\n",
    "                eth = invest / close_price\n",
    "                buyPrice = close_price\n",
    "                trx[\"Type\"] = \"Buy\"\n",
    "                trx[\"Date\"] = close_date\n",
    "                trx[\"Close\"] = close_price\n",
    "                log.append(trx)\n",
    "\n",
    "            #looking for selling opportunity\n",
    "            elif (buy == False and close_price >= bb_high_band and buyPrice < close_price):\n",
    "                buy = True\n",
    "                invest = close_price * eth\n",
    "                trx = {}\n",
    "                trx[\"Type\"] = \"Sell\"\n",
    "                trx[\"Date\"] = close_date\n",
    "                trx[\"Close\"] = close_price\n",
    "                trx[\"Total Profit\"] = invest - main_invest\n",
    "                log.append(trx)\n",
    "\n",
    "        elif strategy == \"rsibb\":\n",
    "            bb_high_band = trading_day[\"bb_high_band\"]\n",
    "            bb_low_band = trading_day[\"bb_low_band\"]\n",
    "            rsi = trading_day[\"RSI\"]\n",
    "\n",
    "            if (buy and close_price <= bb_low_band and rsi <= lowerB):\n",
    "                trx = {}\n",
    "                buy = False\n",
    "                eth = invest / close_price\n",
    "                buyPrice = close_price\n",
    "                trx[\"Type\"] = \"Buy\"\n",
    "                trx[\"Date\"] = close_date\n",
    "                trx[\"Close\"] = close_price\n",
    "                log.append(trx)\n",
    "\n",
    "            #looking for selling opportunity\n",
    "            elif (buy == False and close_price >= bb_high_band and rsi >= higherB and buyPrice < close_price):\n",
    "                buy = True\n",
    "                invest = close_price * eth\n",
    "                trx = {}\n",
    "                trx[\"Type\"] = \"Sell\"\n",
    "                trx[\"Date\"] = close_date\n",
    "                trx[\"Close\"] = close_price\n",
    "                trx[\"Total Profit\"] = invest - main_invest\n",
    "                log.append(trx)\n",
    "\n",
    "\n",
    "\n",
    "    return pd.DataFrame(log)"
   ]
  },
  {
   "cell_type": "code",
   "execution_count": 59,
   "metadata": {},
   "outputs": [],
   "source": [
    "df = getMinData(symbol = \"ETHUSDT\", interval = \"15m\", lookback = \"6 months ago UTC\")\n",
    "applyTechnicals(df)\n",
    "df.tail(10)"
   ]
  },
  {
   "cell_type": "code",
   "execution_count": 74,
   "metadata": {},
   "outputs": [
    {
     "data": {
      "text/plain": [
       "[{'strategy': 'rsi', 'Max Profit': 46.821373020644444},\n",
       " {'strategy': 'bb', 'Max Profit': 34.919886789631136},\n",
       " {'strategy': 'rsibb', 'Max Profit': 24.330044268192424}]"
      ]
     },
     "execution_count": 74,
     "metadata": {},
     "output_type": "execute_result"
    }
   ],
   "source": [
    "strategies = [\"rsi\", \"bb\", \"rsibb\"]\n",
    "profits = []\n",
    "\n",
    "for strategy in strategies:\n",
    "    d_strategy = {}\n",
    "    log_df = testing_strategy(df, strategy)\n",
    "    d_strategy[\"strategy\"] = strategy\n",
    "    d_strategy[\"Max Profit\"] = log_df[\"Total Profit\"].max()\n",
    "\n",
    "    profits.append(d_strategy)\n",
    "\n",
    "profits\n"
   ]
  },
  {
   "cell_type": "code",
   "execution_count": 52,
   "metadata": {},
   "outputs": [
    {
     "data": {
      "text/plain": [
       "<matplotlib.axes._subplots.AxesSubplot at 0xa7e29690>"
      ]
     },
     "execution_count": 52,
     "metadata": {},
     "output_type": "execute_result"
    },
    {
     "data": {
      "image/png": "[encoded data removed]",
      "text/plain": [
       "<Figure size 1440x504 with 1 Axes>"
      ]
     },
     "metadata": {
      "needs_background": "light"
     },
     "output_type": "display_data"
    }
   ],
   "source": [
    "plt.figure(figsize=(20, 7))\n",
    "sns.lineplot(data = log_df, x = \"Date\", y = \"Close\")\n",
    "sns.scatterplot(data = log_df, x = \"Date\", y = \"Close\", hue = \"Type\", palette=dict(Buy = \"#00b300\", Sell = \"#ff0000\"))\n"
   ]
  },
  {
   "cell_type": "code",
   "execution_count": null,
   "metadata": {},
   "outputs": [],
   "source": []
  }
 ],
 "metadata": {
  "interpreter": {
   "hash": "31f2aee4e71d21fbe5cf8b01ff0e069b9275f58929596ceb00d14d90e3e16cd6"
  },
  "kernelspec": {
   "display_name": "Python 3.7.3 32-bit",
   "name": "python3"
  },
  "language_info": {
   "codemirror_mode": {
    "name": "ipython",
    "version": 3
   },
   "file_extension": ".py",
   "mimetype": "text/x-python",
   "name": "python",
   "nbconvert_exporter": "python",
   "pygments_lexer": "ipython3",
   "version": "3.7.3"
  },
  "orig_nbformat": 4
 },
 "nbformat": 4,
 "nbformat_minor": 2
}
